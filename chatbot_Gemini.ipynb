{
  "nbformat": 4,
  "nbformat_minor": 0,
  "metadata": {
    "colab": {
      "provenance": [],
      "authorship_tag": "ABX9TyOWLXnZxBs1x8qGJHJT95Jx",
      "include_colab_link": true
    },
    "kernelspec": {
      "name": "python3",
      "display_name": "Python 3"
    },
    "language_info": {
      "name": "python"
    }
  },
  "cells": [
    {
      "cell_type": "markdown",
      "metadata": {
        "id": "view-in-github",
        "colab_type": "text"
      },
      "source": [
        "<a href=\"https://colab.research.google.com/github/AndreManganelli/Chatbot-IA-KnowledgeBase/blob/main/chatbot_Gemini.ipynb\" target=\"_parent\"><img src=\"https://colab.research.google.com/assets/colab-badge.svg\" alt=\"Open In Colab\"/></a>"
      ]
    },
    {
      "cell_type": "code",
      "source": [
        "!pip install -q -U google-generativeai"
      ],
      "metadata": {
        "id": "59SL3KmhDz-s"
      },
      "execution_count": null,
      "outputs": []
    },
    {
      "cell_type": "code",
      "execution_count": null,
      "metadata": {
        "id": "mcyDbeyJC7jI"
      },
      "outputs": [],
      "source": [
        "import numpy as np\n",
        "import json\n",
        "import datetime\n",
        "import random as random\n",
        "import google.generativeai as genai\n",
        "\n",
        "# Define a variável de ambiente para a API Key do Gemini\n",
        "GOOGLE_API_KEY=\"INSERT API-KEY HERE - INSIRA SUA API KEY AQUI\"\n",
        "genai.configure(api_key=GOOGLE_API_KEY)\n",
        "\n",
        "\n",
        "# Carrega o arquivo JSON com problemas e soluções\n",
        "def carregar_base_conhecimento(nome_arquivo=\"base_conhecimento.json\"):\n",
        "  \"\"\"Carrega a base de conhecimento a partir de um arquivo JSON.\"\"\"\n",
        "  with open(nome_arquivo, 'r', encoding='utf-8') as f:\n",
        "    return json.load(f)\n",
        "\n",
        "\n",
        "# Função para gerar um número de chamado\n",
        "def gerar_numero_chamado():\n",
        "  \"\"\"Gera um número de chamado aleatório.\"\"\"\n",
        "  return random.randint(100000, 999999)\n",
        "\n",
        "# Função para salvar o histórico de atendimentos\n",
        "def salvar_historico(historico, nome_arquivo=\"historico_atendimentos.json\"):\n",
        "  \"\"\"Salva o histórico de atendimentos em um arquivo JSON.\"\"\"\n",
        "  with open(nome_arquivo, 'w', encoding='utf-8') as f:\n",
        "    json.dump(historico, f, indent=4)\n",
        "\n",
        "# Função principal do chatbot\n",
        "def chatbot():\n",
        "  \"\"\"Função principal do chatbot.\"\"\"\n",
        "\n",
        "  base_conhecimento = carregar_base_conhecimento()\n",
        "  historico_atendimentos = []\n",
        "\n",
        "  print(\"Olá! 👋 Bem-vindo ao nosso suporte técnico.\")\n",
        "\n",
        "  while True:\n",
        "    print(\"\\nDigite sua dúvida ou problema:\")\n",
        "    duvida = input(\"> \")\n",
        "\n",
        "    # Procura a solução na base de conhecimento\n",
        "    solucao_encontrada = False\n",
        "    for problema in base_conhecimento:\n",
        "      if problema[\"problema\"].lower() in duvida.lower():\n",
        "        print(f\"Encontrei uma solução para você:\\n{problema['solucao']}\")\n",
        "        solucao_encontrada = True\n",
        "        break\n",
        "\n",
        "    # Se não encontrou na base de conhecimento, utiliza o Gemini\n",
        "    if not solucao_encontrada:\n",
        "      # Utiliza o modelo Gemini para gerar uma resposta\n",
        "\n",
        "      model = genai.GenerativeModel(\"gemini-1.0-pro\")\n",
        "\n",
        "      result = model.generate_content([duvida])\n",
        "\n",
        "      print(f\"Resposta do técnico:\\n{result.text}\")\n",
        "\n",
        "    # Pergunta se há mais dúvidas\n",
        "    mais_duvidas = input(\"\\nVocê tem mais alguma dúvida? (sim/não): \").lower()\n",
        "    if mais_duvidas != \"sim\":\n",
        "      # Gera o número do chamado e solicita a nota de atendimento\n",
        "      numero_chamado = gerar_numero_chamado()\n",
        "      print(f\"\\nNúmero do seu chamado: {numero_chamado}\")\n",
        "\n",
        "      while True:\n",
        "        try:\n",
        "          nota = int(input(\"Por favor, avalie nosso atendimento de 1 a 5 (sendo 5 a nota máxima): \"))\n",
        "          if 1 <= nota <= 5:\n",
        "            break\n",
        "          else:\n",
        "            print(\"Nota inválida. Digite um número entre 1 e 5.\")\n",
        "        except ValueError:\n",
        "          print(\"Entrada inválida. Digite um número entre 1 e 5.\")\n",
        "\n",
        "      # Armazena a interação no histórico\n",
        "      historico_atendimentos.append({\n",
        "        \"data_hora\": datetime.datetime.now().isoformat(),\n",
        "        \"numero_chamado\": numero_chamado,\n",
        "        \"nota\": nota\n",
        "      })\n",
        "      salvar_historico(historico_atendimentos)\n",
        "      print(\"Obrigado pelo seu feedback! 😊\")\n",
        "      break\n",
        "\n",
        "# Comando para visualizar o histórico de atendimentos\n",
        "def visualizar_historico():\n",
        "  \"\"\"Carrega e exibe o histórico de atendimentos.\"\"\"\n",
        "  try:\n",
        "    historico = json.load(open(\"historico_atendimentos.json\", 'r', encoding='utf-8'))\n",
        "    if historico:\n",
        "      print(\"\\nHistórico de Atendimentos:\")\n",
        "      for atendimento in historico:\n",
        "        print(f\"- Data e Hora: {atendimento['data_hora']}\")\n",
        "        print(f\"  Número do Chamado: {atendimento['numero_chamado']}\")\n",
        "        print(f\"  Nota: {atendimento['nota']}\\n\")\n",
        "    else:\n",
        "      print(\"Nenhum atendimento registrado no histórico.\")\n",
        "  except FileNotFoundError:\n",
        "    print(\"Arquivo de histórico não encontrado.\")\n",
        "\n",
        "# Inicia o chatbot\n",
        "if __name__ == \"__main__\":\n",
        "  chatbot()\n",
        "\n",
        "  # Loop para comandos adicionais\n",
        "  while True:\n",
        "    comando = input(\"\\nDigite um comando (historico ou sair): \").lower()\n",
        "    if comando == \"historico\":\n",
        "      visualizar_historico()\n",
        "    elif comando == \"sair\":\n",
        "      break\n",
        "    else:\n",
        "      print(\"Comando inválido.\")"
      ]
    },
    {
      "cell_type": "code",
      "source": [],
      "metadata": {
        "id": "fbOTQwC6DrIU"
      },
      "execution_count": null,
      "outputs": []
    }
  ]
}